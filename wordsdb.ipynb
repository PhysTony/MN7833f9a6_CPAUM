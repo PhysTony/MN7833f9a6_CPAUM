{
 "cells": [
  {
   "cell_type": "markdown",
   "metadata": {},
   "source": [
    "## Read Data from a File for MySQL insertion"
   ]
  },
  {
   "cell_type": "code",
   "execution_count": 2,
   "metadata": {},
   "outputs": [],
   "source": [
    "# r for reading \n",
    "fh = open(\"Vocabulary_list.csv\" , \"r\")"
   ]
  },
  {
   "cell_type": "code",
   "execution_count": 3,
   "metadata": {},
   "outputs": [
    {
     "name": "stdout",
     "output_type": "stream",
     "text": [
      "['ï»¿Word, Definition\\n', 'philanthropist,one who loves mankind\\n', \"introspection,examining one's own thoughts and feelings\\n\", 'antidote,medicine used against a poison or a disease\\n', 'strive,to make great efforts, to struggle\"\\n', 'ambidextrous,able to use the left hand or the right equally well\\n', 'precursors,a person or thing that precedes, as in a process or job.\"\\n', 'retrospective,Looking back on past\\n', 'introvert,one who turns towards himself\\n', 'ambiguous,doubtful; uncertain\\n', 'gerontocracy,government ruled by old people\\n', 'aggravate,make worse; irritate\\n', 'braggart,boastful\\n', 'entice,attract, lure\"\\n', 'equilibrium,state of being balanced\\n', 'alleviate,make (pain) easier to bear\\n', 'adorn,add beauty; decorate\\n', 'malevolent,malicious; evil; having or showing ill will\\n', 'connote,Suggest or imply in addition to the precise, literal meaning\"\\n', 'abhor,to hate; to detest\\n', 'agile,active; quick-moving\\n', 'endeavor,to make an effort, to try very hard\"\\n', \"stray,wander lose one's way\\n\", 'renovate,restore something to better condition\\n', 'curriculum,course of study\\n', 'amalgamate,mix; combine; unite societies\\n', 'drowsiness,feeling sleepy half asleep\\n', 'disrobe,undress\\n', 'xenophile (zen-uh-fahyl),a person who is attracted to foreign peoples cultures\\n', 'suffocate,cause or have difficulty in breathing\\n', 'sequence,succession connected line of\\n', 'scent,smell (especially pleasant)\\n', 'sporadic,happening from time to time\\n', 'affinity,close connection; relationship\\n', 'audacious,Bold\\n', 'heterogeneous,made up of different kinds\\n', 'animosity,strong dislike\\n', 'fragile,easily injured broken or destroyed\\n', 'acumen,Keen, quick, accurate insight or judgment\"\\n', 'legacy,Bequest or inheritance\\n', 'massacre,cruel killing of a large number of people\\n', 'submerge,put under water liquid sink out of sight\\n', 'combustion,process of burning\\n', 'adulteration,making unpure; poorer in quality\\n', 'appease,make quiet or calm\\n', 'premature,doing or happening something before the right time\\n', 'inquest,Legal or judicial inquiry, especially before a jury and especially made by a coroner into the cause of someone.s death\"\\n', 'shunned,avoided, kept away from\"\\n', 'conceal,hide keep secret\\n', 'anguish,severe suffering\\n', 'indigenous,native\\n', 'apt,well-suited; quick-witted\\n', 'correlate,have a mutual relation\\n', 'grumble,to complain\\n', 'offhand,Without preparation or forethought\\n', 'somersault,rolling backward or forward (not sideways) movement\\n', 'extinguish,end the existence of/wipe or put out\\n', 'edible,fit to be eaten/not poisonous\\n', 'conjoin,to join together\\n', 'surcharge,additional load/charge\\n', 'accolade,praise; approval\\n', 'disallow,refuse to allow or accept as a correct\\n', 'opaqueness,dullness/not allowing light to pass through\\n', 'impermeable,that cannot be permeated\\n', 'console,give comfort or sympathy to\\n', 'timid,shy easily frightened\\n', 'abscond,to go away suddenly (to avoid arrest)\\n', 'abide,be faithful; to endure\\n', \"embezzle,use in a wrong way for one's own benefit\\n\", 'warrant,authority written order guarantee\\n', 'reminiscent,suggest something in the past\\n', 'extinct,no longer active\\n', \"loll,rest to sit or stand in a lazy way hang (dog's tongue)\\n\", 'acclaimed,welcomed with shouts and approval\\n', 'clientele,customers\\n', 'catalyst,substance that causes speeding up\\n', 'shallow,little depth; not earnest\\n', 'brittle,easily broken\\n', 'negligent,taking too little care\\n', 'affable,polite and friendly\\n', 'poseur,a person who attempts to impress by acting unlike himself\\n', 'dangle,hand or swing loosely\\n', 'moribund,in a dying state; near death\\n', 'ascend,go or come up\\n', 'relapse,fall back again\\n', 'asterisk,the mark * (e.g.. omitted letters)\\n', 'yarn,tale story fibers for knitting\\n', 'arrogance,proud; superior manner of behaviour\\n', 'salvage,the saving of property from loss\\n', 'livid,Furiously angry, enraged\"\\n', 'divergence,getting farther apart from a point\\n', 'rejuvenation,becoming young in nature or appearance\\n', 'allegiance,duty support loyalty\\n', 'vigorous,strong energetic\\n', 'dullard,a stupid, insensitive person\"\\n', 'dwarf,person much smaller the usual size\\n', 'fragrant,sweet-smelling\\n', 'judicious,sound in judgment; wise\\n', 'nihilism,total rejection of all religious and moral beliefs\\n', 'odor,smell\\n', 'scribble,write hastily\\n', 'hospitable,liking to give hospitality\\n', 'narcissism,Self-love\\n', 'sawdust,tiny bits of wood\\n', 'ameliorate,improve; make better\\n', 'ingest,take in by swallowing\\n', 'gait,a manner of walking, stepping, or running\"\\n', 'sluggard,lazy slow-moving person\\n', 'succumb,yield, die\"\\n', 'reiterate,say or do again several times\\n', 'flop,fail/move/fall clumsily\\n', 'defer,postpone\\n', 'ossified,turned to bone; hardened like bone; Inflexible\\n', 'eloquence,fluent speaking skillful use of language\\n', 'derivative,unoriginal; obtained from another source\\n', 'commuter,person who travels regularly\\n', 'clot,half-solid lump formed from liquid\\n', 'weigh,measure how heavy something is\\n', 'steeply,rising or falling sharply\\n', 'torque,twisting force causing rotation\\n', 'benefactor,person who has given help\\n', 'complaisant,trying to please; obliging\\n', 'plea,request\\n', 'moderation,quality of being limited; not extreme\\n', 'enduring,lasting\\n', 'invincible,too strong to be defeated\\n', 'sanity,health of mind soundness of judgment\\n', 'turmoil,trouble disturbance\\n', 'flimsy,lacking solidarity, strength\"\\n', 'tadpole,form of a frog when it leaves the egg\\n', 'reconcile,settle a quarrel restore peace\\n', 'cryptic,secret with a hidden meaning\\n', 'sponge,porous rubber for washing live at once expense\\n', 'commemorate,keep the memory of\\n', 'sadistic,Cruel\\n', \"dote,show much fondness center one's attention\\n\", 'encapsulate,enclose in capsule\\n', 'fission,splitting or division (esp. of cells)\\n', 'volatile,changeable inconstant fickle unstable explosive\\n', 'alloy,to debase by mixing with something inferior\\n', 'dormant,in a state of inactivity but awaiting development\\n', 'gallant,brave,behaves well with women\"\\n', 'grievous,causing grief or pain; serious dire grave\\n', 'enzyme,catalyst\\n', 'shard,A piece of broken pottery\\n', 'hypocrisy,falsely making oneself appear to be good\\n', 'eradicate,get rid of pull up by the roots\\n', 'chisel,steel tool for shaping materials\\n', 'infuriate,fill with fury or rage\\n', 'engulf,swallow up\\n', 'euphoria,elation state of pleasant excitement\\n', 'sanction,approval (by authority) penalty\\n', 'renowned,celebrated; famous\\n', 'riddle,puzzling person or thing\\n', 'evoke,call up bring out\\n', 'mischievous,harmful; causing mischief\\n', 'implicit,implied though; not plainly expressed\\n', 'disproof,proof to the contrary\\n', 'misogynist,one who hates women/females\\n', 'abysmal,extreme bad\\n', 'writ,written order\\n', 'pertain,belong as a part have reference\\n', 'erratic,irregular in behaviour or opinion\\n', 'meticulous,giving great attention to details\\n', 'impromptu,without preparation\\n', 'inclined,directing the mind in a certain direction\\n', 'constrict,make tight or smaller\\n', 'perish,be destroyed decay\\n', 'Lambaste,attack verbally\\n', 'luminary,star; light-giving body\\n', 'dupe,cheat make a fool of\\n', 'auxiliary,helping; supporting\\n', 'extralegal,outside the law\\n', 'ambivalent,having both of two contrary meanings\\n', 'tonic,something giving strength or energy\\n', \"endorse,write one's name on the back of\\n\", 'turbulence,being uncontrollably violent\\n', 'connoisseur,a person with good judgement (e.g.. in art)\\n', 'indistinct,not easily heard; seen clearly marked\\n', 'abstruse,difficult to comprehend; obscure\\n', 'limp,lacking strength; walking unevenly\\n', 'parenthesis,sentence within another one something separated\\n', 'sophisticated,complex; subtle; refined\\n', 'aberration,straying away from what is normal\\n', 'recuperate,become strong after illness loss exhaustion\\n', 'perjury,willful FALSE statement unlawful act\\n', 'mite,A very small amount, portion, or particle\"\\n', 'pest,destructive thing or a person who is nuisance\\n', 'pluck,pull the feathers off pick (e.g.. flowers)\\n', 'satiate,satisfy fully\\n', 'colloquial,involving or using conversation.\\n', 'yeoman,man owning small estate; middle-class farmer\\n', 'ail,to cause pain, uneasiness, or trouble to.\"\\n', 'fidelity,loyalty accuracy\\n', 'mesmerize,hypnotize\\n', 'paradigm,a model example or pattern\\n', 'gullible,easily gulled\\n', 'sobriety,quality or condition of being sober\\n', 'dislodge,move force from the place occupied\\n', 'fleet,number of ships; quick-moving\\n', 'articulate,speak distinctly; connect by joints\\n', 'tractable,easily controlled or guided\\n', 'partisan,one-sided committed to a party biased or prejudiced\\n', 'predominate,have more power than others\\n', 'foolproof,incapable of failure or error\\n', 'suffice,be enough\\n', 'permeate,spread into every part of\\n', 'spear,weapon with a metal point on a long shaft\\n', 'solvent,of the power of forming a solution\\n', 'presentiment,anticipatory fear; premonition\\n', 'vivacious,lively high-spirited\\n', 'coagulation,change to a thick and solid state\\n', 'liberality,free giving; generosity\\n', 'elaborate,worked out with much care in great detail\\n', 'brass,yellow metal (mixing copper and zinc)\\n', 'malleable,yielding easily shaped; moldable; adapting\\n', 'patron,regular customer person who gives support\\n', 'immutable,that cannot be changed\\n', 'forgery,counterfeit\\n', 'woo,try to win\\n', 'cordial,warm and sincere\\n', 'cumbersome,burdensome; heavy and awkward to carry\\n', 'beguile,mislead or delude; cheat; pass time\\n', 'retrograde,receding\\n', 'sheath,cover for the blade of a weapon or a tool\\n', 'bewilder,puzzle; confuse\\n', 'knit,draw together; unite firmly\\n', 'unscathed,unharmed unhurt\\n', 'chortle,loud chuckle of pleasure or amusement\\n', 'jabber,talk excitedly; utter rapidly\\n', 'pivotal,of great importance (others depend on it)\\n', 'implosion,collapse; bursting inward\\n', 'repel,refuse to accept/cause dislike\\n', 'superimpose,put something on the top\\n', 'centurion,leader of a unit of 100 soldiers\\n', 'enigma,something that is puzzling\\n', 'calipers,metal supports attached to the legs measuring instrument\\n', 'redeem,get back by payment compensate\\n', 'buoyant,able to float; light-hearted\\n', 'impede,hinder; get in the way of\\n', 'stride,walk with long steps\\n', 'boisterous,noisy; restraint\\n', 'resuscitation,coming back to consciousness\\n', 'concur,agree in opinion happen together\\n', 'recitals,a number of performance of music\\n', 'treacherous,not to be trusted, perfidious\"\\n', 'indulgent,inclined to indulge\\n', 'pilferer,to steal, especially in small quantities\"\\n', 'foster,nurture; care for\\n', 'apartheid,brutal racial discrimination\\n', 'garrulous,too talkative\\n', 'edify,instruct; correct morally\\n', 'evasive,tending to evade\\n', 'misanthrope,person who hates mankind\\n', 'eulogy,formal praise panegyric\\n', 'arcane,known or understood by very few\\n', 'bogus,sham; counterfeit; not genuine\\n', 'dexterity,skill (esp. in handling)\\n', 'lampoon,publicly mock or ridicule\\n', 'skit,short piece of humorous writing\\n', 'incongruous,out of place; not in harmony or agreement\\n', 'repulsive,causing a feeling of disgust\\n', 'refine,make or become pure cultural\\n']\n"
     ]
    }
   ],
   "source": [
    "wd_list = fh.readlines()\n",
    "print(wd_list)"
   ]
  },
  {
   "cell_type": "code",
   "execution_count": 4,
   "metadata": {},
   "outputs": [
    {
     "data": {
      "text/plain": [
       "'ï»¿Word, Definition\\n'"
      ]
     },
     "execution_count": 4,
     "metadata": {},
     "output_type": "execute_result"
    }
   ],
   "source": [
    "# pop the first entry off for the word list, the first entry just contains the word and definition\n",
    "wd_list.pop(0)"
   ]
  },
  {
   "cell_type": "code",
   "execution_count": 6,
   "metadata": {},
   "outputs": [],
   "source": [
    "# creating an empty list\n",
    "vocab_list = []"
   ]
  },
  {
   "cell_type": "code",
   "execution_count": 10,
   "metadata": {},
   "outputs": [
    {
     "name": "stdout",
     "output_type": "stream",
     "text": [
      "[{'philanthropist', 'one who loves mankind'}, {'introspection', \"examining one's own thoughts and feelings\"}, {'medicine used against a poison or a disease', 'antidote'}, {'to make great efforts, to struggle\"', 'strive'}, {'ambidextrous', 'able to use the left hand or the right equally well'}, {'a person or thing that precedes, as in a process or job.\"', 'precursors'}, {'Looking back on past', 'retrospective'}, {'one who turns towards himself', 'introvert'}, {'doubtful; uncertain', 'ambiguous'}, {'gerontocracy', 'government ruled by old people'}, {'aggravate', 'make worse; irritate'}, {'boastful', 'braggart'}, {'attract, lure\"', 'entice'}, {'state of being balanced', 'equilibrium'}, {'alleviate', 'make (pain) easier to bear'}, {'add beauty; decorate', 'adorn'}, {'malevolent', 'malicious; evil; having or showing ill will'}, {'connote', 'Suggest or imply in addition to the precise, literal meaning\"'}, {'to hate; to detest', 'abhor'}, {'active; quick-moving', 'agile'}, {'endeavor', 'to make an effort, to try very hard\"'}, {\"wander lose one's way\", 'stray'}, {'restore something to better condition', 'renovate'}, {'curriculum', 'course of study'}, {'mix; combine; unite societies', 'amalgamate'}, {'feeling sleepy half asleep', 'drowsiness'}, {'disrobe', 'undress'}, {'xenophile (zen-uh-fahyl)', 'a person who is attracted to foreign peoples cultures'}, {'cause or have difficulty in breathing', 'suffocate'}, {'sequence', 'succession connected line of'}, {'scent', 'smell (especially pleasant)'}, {'happening from time to time', 'sporadic'}, {'affinity', 'close connection; relationship'}, {'audacious', 'Bold'}, {'made up of different kinds', 'heterogeneous'}, {'animosity', 'strong dislike'}, {'easily injured broken or destroyed', 'fragile'}, {'Keen, quick, accurate insight or judgment\"', 'acumen'}, {'legacy', 'Bequest or inheritance'}, {'massacre', 'cruel killing of a large number of people'}, {'submerge', 'put under water liquid sink out of sight'}, {'process of burning', 'combustion'}, {'adulteration', 'making unpure; poorer in quality'}, {'appease', 'make quiet or calm'}, {'doing or happening something before the right time', 'premature'}, {'Legal or judicial inquiry, especially before a jury and especially made by a coroner into the cause of someone.s death\"', 'inquest'}, {'avoided, kept away from\"', 'shunned'}, {'hide keep secret', 'conceal'}, {'anguish', 'severe suffering'}, {'indigenous', 'native'}, {'apt', 'well-suited; quick-witted'}, {'have a mutual relation', 'correlate'}, {'to complain', 'grumble'}, {'Without preparation or forethought', 'offhand'}, {'rolling backward or forward (not sideways) movement', 'somersault'}, {'extinguish', 'end the existence of/wipe or put out'}, {'fit to be eaten/not poisonous', 'edible'}, {'conjoin', 'to join together'}, {'surcharge', 'additional load/charge'}, {'accolade', 'praise; approval'}, {'disallow', 'refuse to allow or accept as a correct'}, {'opaqueness', 'dullness/not allowing light to pass through'}, {'that cannot be permeated', 'impermeable'}, {'give comfort or sympathy to', 'console'}, {'shy easily frightened', 'timid'}, {'to go away suddenly (to avoid arrest)', 'abscond'}, {'be faithful; to endure', 'abide'}, {\"use in a wrong way for one's own benefit\", 'embezzle'}, {'authority written order guarantee', 'warrant'}, {'suggest something in the past', 'reminiscent'}, {'extinct', 'no longer active'}, {'loll', \"rest to sit or stand in a lazy way hang (dog's tongue)\"}, {'welcomed with shouts and approval', 'acclaimed'}, {'customers', 'clientele'}, {'catalyst', 'substance that causes speeding up'}, {'little depth; not earnest', 'shallow'}, {'brittle', 'easily broken'}, {'negligent', 'taking too little care'}, {'polite and friendly', 'affable'}, {'a person who attempts to impress by acting unlike himself', 'poseur'}, {'dangle', 'hand or swing loosely'}, {'moribund', 'in a dying state; near death'}, {'ascend', 'go or come up'}, {'relapse', 'fall back again'}, {'the mark * (e.g.. omitted letters)', 'asterisk'}, {'yarn', 'tale story fibers for knitting'}, {'arrogance', 'proud; superior manner of behaviour'}, {'salvage', 'the saving of property from loss'}, {'livid', 'Furiously angry, enraged\"'}, {'divergence', 'getting farther apart from a point'}, {'becoming young in nature or appearance', 'rejuvenation'}, {'allegiance', 'duty support loyalty'}, {'strong energetic', 'vigorous'}, {'a stupid, insensitive person\"', 'dullard'}, {'dwarf', 'person much smaller the usual size'}, {'sweet-smelling', 'fragrant'}, {'sound in judgment; wise', 'judicious'}, {'nihilism', 'total rejection of all religious and moral beliefs'}, {'smell', 'odor'}, {'scribble', 'write hastily'}, {'hospitable', 'liking to give hospitality'}, {'Self-love', 'narcissism'}, {'tiny bits of wood', 'sawdust'}, {'improve; make better', 'ameliorate'}, {'ingest', 'take in by swallowing'}, {'a manner of walking, stepping, or running\"', 'gait'}, {'lazy slow-moving person', 'sluggard'}, {'succumb', 'yield, die\"'}, {'say or do again several times', 'reiterate'}, {'fail/move/fall clumsily', 'flop'}, {'postpone', 'defer'}, {'ossified', 'turned to bone; hardened like bone; Inflexible'}, {'eloquence', 'fluent speaking skillful use of language'}, {'derivative', 'unoriginal; obtained from another source'}, {'person who travels regularly', 'commuter'}, {'clot', 'half-solid lump formed from liquid'}, {'weigh', 'measure how heavy something is'}, {'steeply', 'rising or falling sharply'}, {'torque', 'twisting force causing rotation'}, {'benefactor', 'person who has given help'}, {'complaisant', 'trying to please; obliging'}, {'plea', 'request'}, {'moderation', 'quality of being limited; not extreme'}, {'lasting', 'enduring'}, {'invincible', 'too strong to be defeated'}, {'health of mind soundness of judgment', 'sanity'}, {'trouble disturbance', 'turmoil'}, {'flimsy', 'lacking solidarity, strength\"'}, {'tadpole', 'form of a frog when it leaves the egg'}, {'settle a quarrel restore peace', 'reconcile'}, {'secret with a hidden meaning', 'cryptic'}, {'sponge', 'porous rubber for washing live at once expense'}, {'commemorate', 'keep the memory of'}, {'sadistic', 'Cruel'}, {'dote', \"show much fondness center one's attention\"}, {'encapsulate', 'enclose in capsule'}, {'fission', 'splitting or division (esp. of cells)'}, {'volatile', 'changeable inconstant fickle unstable explosive'}, {'alloy', 'to debase by mixing with something inferior'}, {'dormant', 'in a state of inactivity but awaiting development'}, {'gallant', 'brave,behaves well with women\"'}, {'causing grief or pain; serious dire grave', 'grievous'}, {'enzyme', 'catalyst'}, {'A piece of broken pottery', 'shard'}, {'falsely making oneself appear to be good', 'hypocrisy'}, {'eradicate', 'get rid of pull up by the roots'}, {'chisel', 'steel tool for shaping materials'}, {'infuriate', 'fill with fury or rage'}, {'swallow up', 'engulf'}, {'euphoria', 'elation state of pleasant excitement'}, {'sanction', 'approval (by authority) penalty'}, {'celebrated; famous', 'renowned'}, {'riddle', 'puzzling person or thing'}, {'call up bring out', 'evoke'}, {'mischievous', 'harmful; causing mischief'}, {'implied though; not plainly expressed', 'implicit'}, {'proof to the contrary', 'disproof'}, {'one who hates women/females', 'misogynist'}, {'abysmal', 'extreme bad'}, {'writ', 'written order'}, {'pertain', 'belong as a part have reference'}, {'irregular in behaviour or opinion', 'erratic'}, {'giving great attention to details', 'meticulous'}, {'impromptu', 'without preparation'}, {'directing the mind in a certain direction', 'inclined'}, {'constrict', 'make tight or smaller'}, {'be destroyed decay', 'perish'}, {'Lambaste', 'attack verbally'}, {'luminary', 'star; light-giving body'}, {'dupe', 'cheat make a fool of'}, {'auxiliary', 'helping; supporting'}, {'outside the law', 'extralegal'}, {'having both of two contrary meanings', 'ambivalent'}, {'something giving strength or energy', 'tonic'}, {'endorse', \"write one's name on the back of\"}, {'turbulence', 'being uncontrollably violent'}, {'a person with good judgement (e.g.. in art)', 'connoisseur'}, {'not easily heard; seen clearly marked', 'indistinct'}, {'difficult to comprehend; obscure', 'abstruse'}, {'limp', 'lacking strength; walking unevenly'}, {'parenthesis', 'sentence within another one something separated'}, {'complex; subtle; refined', 'sophisticated'}, {'straying away from what is normal', 'aberration'}, {'become strong after illness loss exhaustion', 'recuperate'}, {'perjury', 'willful FALSE statement unlawful act'}, {'A very small amount, portion, or particle\"', 'mite'}, {'pest', 'destructive thing or a person who is nuisance'}, {'pull the feathers off pick (e.g.. flowers)', 'pluck'}, {'satisfy fully', 'satiate'}, {'involving or using conversation.', 'colloquial'}, {'yeoman', 'man owning small estate; middle-class farmer'}, {'ail', 'to cause pain, uneasiness, or trouble to.\"'}, {'fidelity', 'loyalty accuracy'}, {'hypnotize', 'mesmerize'}, {'paradigm', 'a model example or pattern'}, {'easily gulled', 'gullible'}, {'sobriety', 'quality or condition of being sober'}, {'dislodge', 'move force from the place occupied'}, {'fleet', 'number of ships; quick-moving'}, {'speak distinctly; connect by joints', 'articulate'}, {'easily controlled or guided', 'tractable'}, {'one-sided committed to a party biased or prejudiced', 'partisan'}, {'predominate', 'have more power than others'}, {'foolproof', 'incapable of failure or error'}, {'be enough', 'suffice'}, {'spread into every part of', 'permeate'}, {'spear', 'weapon with a metal point on a long shaft'}, {'solvent', 'of the power of forming a solution'}, {'anticipatory fear; premonition', 'presentiment'}, {'lively high-spirited', 'vivacious'}, {'coagulation', 'change to a thick and solid state'}, {'liberality', 'free giving; generosity'}, {'elaborate', 'worked out with much care in great detail'}, {'brass', 'yellow metal (mixing copper and zinc)'}, {'malleable', 'yielding easily shaped; moldable; adapting'}, {'regular customer person who gives support', 'patron'}, {'immutable', 'that cannot be changed'}, {'forgery', 'counterfeit'}, {'try to win', 'woo'}, {'cordial', 'warm and sincere'}, {'cumbersome', 'burdensome; heavy and awkward to carry'}, {'mislead or delude; cheat; pass time', 'beguile'}, {'receding', 'retrograde'}, {'cover for the blade of a weapon or a tool', 'sheath'}, {'bewilder', 'puzzle; confuse'}, {'knit', 'draw together; unite firmly'}, {'unharmed unhurt', 'unscathed'}, {'loud chuckle of pleasure or amusement', 'chortle'}, {'talk excitedly; utter rapidly', 'jabber'}, {'of great importance (others depend on it)', 'pivotal'}, {'collapse; bursting inward', 'implosion'}, {'refuse to accept/cause dislike', 'repel'}, {'superimpose', 'put something on the top'}, {'leader of a unit of 100 soldiers', 'centurion'}, {'enigma', 'something that is puzzling'}, {'calipers', 'metal supports attached to the legs measuring instrument'}, {'get back by payment compensate', 'redeem'}, {'able to float; light-hearted', 'buoyant'}, {'impede', 'hinder; get in the way of'}, {'stride', 'walk with long steps'}, {'boisterous', 'noisy; restraint'}, {'coming back to consciousness', 'resuscitation'}, {'concur', 'agree in opinion happen together'}, {'a number of performance of music', 'recitals'}, {'treacherous', 'not to be trusted, perfidious\"'}, {'inclined to indulge', 'indulgent'}, {'pilferer', 'to steal, especially in small quantities\"'}, {'nurture; care for', 'foster'}, {'brutal racial discrimination', 'apartheid'}, {'garrulous', 'too talkative'}, {'edify', 'instruct; correct morally'}, {'evasive', 'tending to evade'}, {'person who hates mankind', 'misanthrope'}, {'eulogy', 'formal praise panegyric'}, {'arcane', 'known or understood by very few'}, {'bogus', 'sham; counterfeit; not genuine'}, {'skill (esp. in handling)', 'dexterity'}, {'publicly mock or ridicule', 'lampoon'}, {'short piece of humorous writing', 'skit'}, {'out of place; not in harmony or agreement', 'incongruous'}, {'causing a feeling of disgust', 'repulsive'}, {'refine', 'make or become pure cultural'}, {'philanthropist', 'one who loves mankind'}, {'introspection', \"examining one's own thoughts and feelings\"}, {'medicine used against a poison or a disease', 'antidote'}, {'to make great efforts, to struggle\"', 'strive'}, {'ambidextrous', 'able to use the left hand or the right equally well'}, {'a person or thing that precedes, as in a process or job.\"', 'precursors'}, {'Looking back on past', 'retrospective'}, {'one who turns towards himself', 'introvert'}, {'doubtful; uncertain', 'ambiguous'}, {'gerontocracy', 'government ruled by old people'}, {'aggravate', 'make worse; irritate'}, {'boastful', 'braggart'}, {'attract, lure\"', 'entice'}, {'state of being balanced', 'equilibrium'}, {'alleviate', 'make (pain) easier to bear'}, {'add beauty; decorate', 'adorn'}, {'malevolent', 'malicious; evil; having or showing ill will'}, {'connote', 'Suggest or imply in addition to the precise, literal meaning\"'}, {'to hate; to detest', 'abhor'}, {'active; quick-moving', 'agile'}, {'endeavor', 'to make an effort, to try very hard\"'}, {\"wander lose one's way\", 'stray'}, {'restore something to better condition', 'renovate'}, {'curriculum', 'course of study'}, {'mix; combine; unite societies', 'amalgamate'}, {'feeling sleepy half asleep', 'drowsiness'}, {'disrobe', 'undress'}, {'xenophile (zen-uh-fahyl)', 'a person who is attracted to foreign peoples cultures'}, {'cause or have difficulty in breathing', 'suffocate'}, {'sequence', 'succession connected line of'}, {'scent', 'smell (especially pleasant)'}, {'happening from time to time', 'sporadic'}, {'affinity', 'close connection; relationship'}, {'audacious', 'Bold'}, {'made up of different kinds', 'heterogeneous'}, {'animosity', 'strong dislike'}, {'easily injured broken or destroyed', 'fragile'}, {'Keen, quick, accurate insight or judgment\"', 'acumen'}, {'legacy', 'Bequest or inheritance'}, {'massacre', 'cruel killing of a large number of people'}, {'submerge', 'put under water liquid sink out of sight'}, {'process of burning', 'combustion'}, {'adulteration', 'making unpure; poorer in quality'}, {'appease', 'make quiet or calm'}, {'doing or happening something before the right time', 'premature'}, {'Legal or judicial inquiry, especially before a jury and especially made by a coroner into the cause of someone.s death\"', 'inquest'}, {'avoided, kept away from\"', 'shunned'}, {'hide keep secret', 'conceal'}, {'anguish', 'severe suffering'}, {'indigenous', 'native'}, {'apt', 'well-suited; quick-witted'}, {'have a mutual relation', 'correlate'}, {'to complain', 'grumble'}, {'Without preparation or forethought', 'offhand'}, {'rolling backward or forward (not sideways) movement', 'somersault'}, {'extinguish', 'end the existence of/wipe or put out'}, {'fit to be eaten/not poisonous', 'edible'}, {'conjoin', 'to join together'}, {'surcharge', 'additional load/charge'}, {'accolade', 'praise; approval'}, {'disallow', 'refuse to allow or accept as a correct'}, {'opaqueness', 'dullness/not allowing light to pass through'}, {'that cannot be permeated', 'impermeable'}, {'give comfort or sympathy to', 'console'}, {'shy easily frightened', 'timid'}, {'to go away suddenly (to avoid arrest)', 'abscond'}, {'be faithful; to endure', 'abide'}, {\"use in a wrong way for one's own benefit\", 'embezzle'}, {'authority written order guarantee', 'warrant'}, {'suggest something in the past', 'reminiscent'}, {'extinct', 'no longer active'}, {'loll', \"rest to sit or stand in a lazy way hang (dog's tongue)\"}, {'welcomed with shouts and approval', 'acclaimed'}, {'customers', 'clientele'}, {'catalyst', 'substance that causes speeding up'}, {'little depth; not earnest', 'shallow'}, {'brittle', 'easily broken'}, {'negligent', 'taking too little care'}, {'polite and friendly', 'affable'}, {'a person who attempts to impress by acting unlike himself', 'poseur'}, {'dangle', 'hand or swing loosely'}, {'moribund', 'in a dying state; near death'}, {'ascend', 'go or come up'}, {'relapse', 'fall back again'}, {'the mark * (e.g.. omitted letters)', 'asterisk'}, {'yarn', 'tale story fibers for knitting'}, {'arrogance', 'proud; superior manner of behaviour'}, {'salvage', 'the saving of property from loss'}, {'livid', 'Furiously angry, enraged\"'}, {'divergence', 'getting farther apart from a point'}, {'becoming young in nature or appearance', 'rejuvenation'}, {'allegiance', 'duty support loyalty'}, {'strong energetic', 'vigorous'}, {'a stupid, insensitive person\"', 'dullard'}, {'dwarf', 'person much smaller the usual size'}, {'sweet-smelling', 'fragrant'}, {'sound in judgment; wise', 'judicious'}, {'nihilism', 'total rejection of all religious and moral beliefs'}, {'smell', 'odor'}, {'scribble', 'write hastily'}, {'hospitable', 'liking to give hospitality'}, {'Self-love', 'narcissism'}, {'tiny bits of wood', 'sawdust'}, {'improve; make better', 'ameliorate'}, {'ingest', 'take in by swallowing'}, {'a manner of walking, stepping, or running\"', 'gait'}, {'lazy slow-moving person', 'sluggard'}, {'succumb', 'yield, die\"'}, {'say or do again several times', 'reiterate'}, {'fail/move/fall clumsily', 'flop'}, {'postpone', 'defer'}, {'ossified', 'turned to bone; hardened like bone; Inflexible'}, {'eloquence', 'fluent speaking skillful use of language'}, {'derivative', 'unoriginal; obtained from another source'}, {'person who travels regularly', 'commuter'}, {'clot', 'half-solid lump formed from liquid'}, {'weigh', 'measure how heavy something is'}, {'steeply', 'rising or falling sharply'}, {'torque', 'twisting force causing rotation'}, {'benefactor', 'person who has given help'}, {'complaisant', 'trying to please; obliging'}, {'plea', 'request'}, {'moderation', 'quality of being limited; not extreme'}, {'lasting', 'enduring'}, {'invincible', 'too strong to be defeated'}, {'health of mind soundness of judgment', 'sanity'}, {'trouble disturbance', 'turmoil'}, {'flimsy', 'lacking solidarity, strength\"'}, {'tadpole', 'form of a frog when it leaves the egg'}, {'settle a quarrel restore peace', 'reconcile'}, {'secret with a hidden meaning', 'cryptic'}, {'sponge', 'porous rubber for washing live at once expense'}, {'commemorate', 'keep the memory of'}, {'sadistic', 'Cruel'}, {'dote', \"show much fondness center one's attention\"}, {'encapsulate', 'enclose in capsule'}, {'fission', 'splitting or division (esp. of cells)'}, {'volatile', 'changeable inconstant fickle unstable explosive'}, {'alloy', 'to debase by mixing with something inferior'}, {'dormant', 'in a state of inactivity but awaiting development'}, {'gallant', 'brave,behaves well with women\"'}, {'causing grief or pain; serious dire grave', 'grievous'}, {'enzyme', 'catalyst'}, {'A piece of broken pottery', 'shard'}, {'falsely making oneself appear to be good', 'hypocrisy'}, {'eradicate', 'get rid of pull up by the roots'}, {'chisel', 'steel tool for shaping materials'}, {'infuriate', 'fill with fury or rage'}, {'swallow up', 'engulf'}, {'euphoria', 'elation state of pleasant excitement'}, {'sanction', 'approval (by authority) penalty'}, {'celebrated; famous', 'renowned'}, {'riddle', 'puzzling person or thing'}, {'call up bring out', 'evoke'}, {'mischievous', 'harmful; causing mischief'}, {'implied though; not plainly expressed', 'implicit'}, {'proof to the contrary', 'disproof'}, {'one who hates women/females', 'misogynist'}, {'abysmal', 'extreme bad'}, {'writ', 'written order'}, {'pertain', 'belong as a part have reference'}, {'irregular in behaviour or opinion', 'erratic'}, {'giving great attention to details', 'meticulous'}, {'impromptu', 'without preparation'}, {'directing the mind in a certain direction', 'inclined'}, {'constrict', 'make tight or smaller'}, {'be destroyed decay', 'perish'}, {'Lambaste', 'attack verbally'}, {'luminary', 'star; light-giving body'}, {'dupe', 'cheat make a fool of'}, {'auxiliary', 'helping; supporting'}, {'outside the law', 'extralegal'}, {'having both of two contrary meanings', 'ambivalent'}, {'something giving strength or energy', 'tonic'}, {'endorse', \"write one's name on the back of\"}, {'turbulence', 'being uncontrollably violent'}, {'a person with good judgement (e.g.. in art)', 'connoisseur'}, {'not easily heard; seen clearly marked', 'indistinct'}, {'difficult to comprehend; obscure', 'abstruse'}, {'limp', 'lacking strength; walking unevenly'}, {'parenthesis', 'sentence within another one something separated'}, {'complex; subtle; refined', 'sophisticated'}, {'straying away from what is normal', 'aberration'}, {'become strong after illness loss exhaustion', 'recuperate'}, {'perjury', 'willful FALSE statement unlawful act'}, {'A very small amount, portion, or particle\"', 'mite'}, {'pest', 'destructive thing or a person who is nuisance'}, {'pull the feathers off pick (e.g.. flowers)', 'pluck'}, {'satisfy fully', 'satiate'}, {'involving or using conversation.', 'colloquial'}, {'yeoman', 'man owning small estate; middle-class farmer'}, {'ail', 'to cause pain, uneasiness, or trouble to.\"'}, {'fidelity', 'loyalty accuracy'}, {'hypnotize', 'mesmerize'}, {'paradigm', 'a model example or pattern'}, {'easily gulled', 'gullible'}, {'sobriety', 'quality or condition of being sober'}, {'dislodge', 'move force from the place occupied'}, {'fleet', 'number of ships; quick-moving'}, {'speak distinctly; connect by joints', 'articulate'}, {'easily controlled or guided', 'tractable'}, {'one-sided committed to a party biased or prejudiced', 'partisan'}, {'predominate', 'have more power than others'}, {'foolproof', 'incapable of failure or error'}, {'be enough', 'suffice'}, {'spread into every part of', 'permeate'}, {'spear', 'weapon with a metal point on a long shaft'}, {'solvent', 'of the power of forming a solution'}, {'anticipatory fear; premonition', 'presentiment'}, {'lively high-spirited', 'vivacious'}, {'coagulation', 'change to a thick and solid state'}, {'liberality', 'free giving; generosity'}, {'elaborate', 'worked out with much care in great detail'}, {'brass', 'yellow metal (mixing copper and zinc)'}, {'malleable', 'yielding easily shaped; moldable; adapting'}, {'regular customer person who gives support', 'patron'}, {'immutable', 'that cannot be changed'}, {'forgery', 'counterfeit'}, {'try to win', 'woo'}, {'cordial', 'warm and sincere'}, {'cumbersome', 'burdensome; heavy and awkward to carry'}, {'mislead or delude; cheat; pass time', 'beguile'}, {'receding', 'retrograde'}, {'cover for the blade of a weapon or a tool', 'sheath'}, {'bewilder', 'puzzle; confuse'}, {'knit', 'draw together; unite firmly'}, {'unharmed unhurt', 'unscathed'}, {'loud chuckle of pleasure or amusement', 'chortle'}, {'talk excitedly; utter rapidly', 'jabber'}, {'of great importance (others depend on it)', 'pivotal'}, {'collapse; bursting inward', 'implosion'}, {'refuse to accept/cause dislike', 'repel'}, {'superimpose', 'put something on the top'}, {'leader of a unit of 100 soldiers', 'centurion'}, {'enigma', 'something that is puzzling'}, {'calipers', 'metal supports attached to the legs measuring instrument'}, {'get back by payment compensate', 'redeem'}, {'able to float; light-hearted', 'buoyant'}, {'impede', 'hinder; get in the way of'}, {'stride', 'walk with long steps'}, {'boisterous', 'noisy; restraint'}, {'coming back to consciousness', 'resuscitation'}, {'concur', 'agree in opinion happen together'}, {'a number of performance of music', 'recitals'}, {'treacherous', 'not to be trusted, perfidious\"'}, {'inclined to indulge', 'indulgent'}, {'pilferer', 'to steal, especially in small quantities\"'}, {'nurture; care for', 'foster'}, {'brutal racial discrimination', 'apartheid'}, {'garrulous', 'too talkative'}, {'edify', 'instruct; correct morally'}, {'evasive', 'tending to evade'}, {'person who hates mankind', 'misanthrope'}, {'eulogy', 'formal praise panegyric'}, {'arcane', 'known or understood by very few'}, {'bogus', 'sham; counterfeit; not genuine'}, {'skill (esp. in handling)', 'dexterity'}, {'publicly mock or ridicule', 'lampoon'}, {'short piece of humorous writing', 'skit'}, {'out of place; not in harmony or agreement', 'incongruous'}, {'causing a feeling of disgust', 'repulsive'}, {'refine', 'make or become pure cultural'}]\n"
     ]
    }
   ],
   "source": [
    "# obtaining just the words and definitions\n",
    "for rawstring in wd_list:\n",
    "    word,definition = rawstring.split(',' , 1)\n",
    "    # 1 for splitting at the first comma\n",
    "    definition = definition.rstrip()\n",
    "    vocab_list.append({word , definition})\n",
    "    \n",
    "print(vocab_list)"
   ]
  },
  {
   "cell_type": "markdown",
   "metadata": {},
   "source": [
    "## Task 2: Create the MySQL Database"
   ]
  },
  {
   "cell_type": "code",
   "execution_count": 16,
   "metadata": {},
   "outputs": [],
   "source": [
    "import mysql.connector\n",
    "import re"
   ]
  },
  {
   "cell_type": "code",
   "execution_count": 22,
   "metadata": {},
   "outputs": [],
   "source": [
    "# Create the connection to MySQL\n",
    "conn = mysql.connector.connect(\n",
    "    host = 'localhost',\n",
    "    user = 'root',\n",
    "    password = 'Huer1997$'\n",
    ")"
   ]
  },
  {
   "cell_type": "code",
   "execution_count": 29,
   "metadata": {},
   "outputs": [],
   "source": [
    "# Create the cursor\n",
    "cursor = conn.cursor()"
   ]
  },
  {
   "cell_type": "code",
   "execution_count": 24,
   "metadata": {},
   "outputs": [
    {
     "name": "stdout",
     "output_type": "stream",
     "text": [
      "database vocab exists\n"
     ]
    }
   ],
   "source": [
    "# Checking the db  for existance\n",
    "cursor.execute(\"SHOW DATABASES\")\n",
    "found = False\n",
    "for db in cursor:\n",
    "    pattern = \"[(,')]\"\n",
    "    db_string = re.sub(pattern , \"\" , str(db))\n",
    "    if(db_string == 'vocab'):\n",
    "        found = True\n",
    "        print('database vocab exists')\n",
    "\n",
    "# If no db exists, create one\n",
    "if(not found):\n",
    "    cursor.execute('CREATE DATABASE vocab')\n",
    "    print(\"\")\n",
    "fh = open('Vocabulary_list.csv')"
   ]
  },
  {
   "cell_type": "markdown",
   "metadata": {},
   "source": [
    "## Task 3: Insert Data into the MySQL Database Table"
   ]
  },
  {
   "cell_type": "code",
   "execution_count": 28,
   "metadata": {},
   "outputs": [],
   "source": [
    "# Creating the connection to MySQL with the new db \"vocab\"\n",
    "conn = mysql.connector.connect(\n",
    "    host = 'localhost',\n",
    "    user = 'root',\n",
    "    password = 'Huer1997$',\n",
    "    database = 'vocab'\n",
    ")"
   ]
  },
  {
   "cell_type": "code",
   "execution_count": 30,
   "metadata": {},
   "outputs": [],
   "source": [
    "# Dropping the table if exists\n",
    "sql = \"DROP TABLE IF EXISTS vocab_table\"\n",
    "cursor.execute(sql)"
   ]
  },
  {
   "cell_type": "code",
   "execution_count": 32,
   "metadata": {},
   "outputs": [],
   "source": [
    "# Creating the table\n",
    "sql = \"CREATE TABLE vocab_table(word VARCHAR(255) , definition VARCHAR(255))\"\n",
    "cursor.execute(sql)"
   ]
  },
  {
   "cell_type": "code",
   "execution_count": 33,
   "metadata": {},
   "outputs": [],
   "source": [
    "# Inserting the values\n",
    "for rawstring in wd_list:\n",
    "    word,definition = rawstring.split(',' , 1)\n",
    "    definition = definition.rstrip()\n",
    "    vocab_list.append({word , definition})\n",
    "    sql = \"INSERT INTO vocab_table(word , definition) VALUES(%s,%s)\"\n",
    "    # With %s avoid sql injections\n",
    "    values = (word , definition)\n",
    "    # Getting the values\n",
    "    cursor.execute(sql , values)\n",
    "    # Printing the inserted values\n",
    "    # print(\"Inserted \" + str(cursor.rowcount) + \" row into vocab_tab\")"
   ]
  },
  {
   "cell_type": "code",
   "execution_count": 34,
   "metadata": {},
   "outputs": [],
   "source": [
    "# Commit the changes\n",
    "conn.commit()"
   ]
  },
  {
   "cell_type": "code",
   "execution_count": 35,
   "metadata": {},
   "outputs": [
    {
     "name": "stdout",
     "output_type": "stream",
     "text": [
      "Inserted 1 row into vocab_tab\n"
     ]
    }
   ],
   "source": [
    "# Printing the last inserted value\n",
    "print(\"Inserted \" + str(cursor.rowcount) + \" row into vocab_tab\")"
   ]
  },
  {
   "cell_type": "markdown",
   "metadata": {},
   "source": [
    "## Task 4: Query the Database Table using Select Statement"
   ]
  },
  {
   "cell_type": "code",
   "execution_count": 36,
   "metadata": {},
   "outputs": [
    {
     "name": "stdout",
     "output_type": "stream",
     "text": [
      "('philanthropist', 'one who loves mankind')\n",
      "('introspection', \"examining one's own thoughts and feelings\")\n",
      "('antidote', 'medicine used against a poison or a disease')\n",
      "('strive', 'to make great efforts, to struggle\"')\n",
      "('ambidextrous', 'able to use the left hand or the right equally well')\n",
      "('precursors', 'a person or thing that precedes, as in a process or job.\"')\n",
      "('retrospective', 'Looking back on past')\n",
      "('introvert', 'one who turns towards himself')\n",
      "('ambiguous', 'doubtful; uncertain')\n",
      "('gerontocracy', 'government ruled by old people')\n",
      "('aggravate', 'make worse; irritate')\n",
      "('braggart', 'boastful')\n",
      "('entice', 'attract, lure\"')\n",
      "('equilibrium', 'state of being balanced')\n",
      "('alleviate', 'make (pain) easier to bear')\n",
      "('adorn', 'add beauty; decorate')\n",
      "('malevolent', 'malicious; evil; having or showing ill will')\n",
      "('connote', 'Suggest or imply in addition to the precise, literal meaning\"')\n",
      "('abhor', 'to hate; to detest')\n",
      "('agile', 'active; quick-moving')\n",
      "('endeavor', 'to make an effort, to try very hard\"')\n",
      "('stray', \"wander lose one's way\")\n",
      "('renovate', 'restore something to better condition')\n",
      "('curriculum', 'course of study')\n",
      "('amalgamate', 'mix; combine; unite societies')\n",
      "('drowsiness', 'feeling sleepy half asleep')\n",
      "('disrobe', 'undress')\n",
      "('xenophile (zen-uh-fahyl)', 'a person who is attracted to foreign peoples cultures')\n",
      "('suffocate', 'cause or have difficulty in breathing')\n",
      "('sequence', 'succession connected line of')\n",
      "('scent', 'smell (especially pleasant)')\n",
      "('sporadic', 'happening from time to time')\n",
      "('affinity', 'close connection; relationship')\n",
      "('audacious', 'Bold')\n",
      "('heterogeneous', 'made up of different kinds')\n",
      "('animosity', 'strong dislike')\n",
      "('fragile', 'easily injured broken or destroyed')\n",
      "('acumen', 'Keen, quick, accurate insight or judgment\"')\n",
      "('legacy', 'Bequest or inheritance')\n",
      "('massacre', 'cruel killing of a large number of people')\n",
      "('submerge', 'put under water liquid sink out of sight')\n",
      "('combustion', 'process of burning')\n",
      "('adulteration', 'making unpure; poorer in quality')\n",
      "('appease', 'make quiet or calm')\n",
      "('premature', 'doing or happening something before the right time')\n",
      "('inquest', 'Legal or judicial inquiry, especially before a jury and especially made by a coroner into the cause of someone.s death\"')\n",
      "('shunned', 'avoided, kept away from\"')\n",
      "('conceal', 'hide keep secret')\n",
      "('anguish', 'severe suffering')\n",
      "('indigenous', 'native')\n",
      "('apt', 'well-suited; quick-witted')\n",
      "('correlate', 'have a mutual relation')\n",
      "('grumble', 'to complain')\n",
      "('offhand', 'Without preparation or forethought')\n",
      "('somersault', 'rolling backward or forward (not sideways) movement')\n",
      "('extinguish', 'end the existence of/wipe or put out')\n",
      "('edible', 'fit to be eaten/not poisonous')\n",
      "('conjoin', 'to join together')\n",
      "('surcharge', 'additional load/charge')\n",
      "('accolade', 'praise; approval')\n",
      "('disallow', 'refuse to allow or accept as a correct')\n",
      "('opaqueness', 'dullness/not allowing light to pass through')\n",
      "('impermeable', 'that cannot be permeated')\n",
      "('console', 'give comfort or sympathy to')\n",
      "('timid', 'shy easily frightened')\n",
      "('abscond', 'to go away suddenly (to avoid arrest)')\n",
      "('abide', 'be faithful; to endure')\n",
      "('embezzle', \"use in a wrong way for one's own benefit\")\n",
      "('warrant', 'authority written order guarantee')\n",
      "('reminiscent', 'suggest something in the past')\n",
      "('extinct', 'no longer active')\n",
      "('loll', \"rest to sit or stand in a lazy way hang (dog's tongue)\")\n",
      "('acclaimed', 'welcomed with shouts and approval')\n",
      "('clientele', 'customers')\n",
      "('catalyst', 'substance that causes speeding up')\n",
      "('shallow', 'little depth; not earnest')\n",
      "('brittle', 'easily broken')\n",
      "('negligent', 'taking too little care')\n",
      "('affable', 'polite and friendly')\n",
      "('poseur', 'a person who attempts to impress by acting unlike himself')\n",
      "('dangle', 'hand or swing loosely')\n",
      "('moribund', 'in a dying state; near death')\n",
      "('ascend', 'go or come up')\n",
      "('relapse', 'fall back again')\n",
      "('asterisk', 'the mark * (e.g.. omitted letters)')\n",
      "('yarn', 'tale story fibers for knitting')\n",
      "('arrogance', 'proud; superior manner of behaviour')\n",
      "('salvage', 'the saving of property from loss')\n",
      "('livid', 'Furiously angry, enraged\"')\n",
      "('divergence', 'getting farther apart from a point')\n",
      "('rejuvenation', 'becoming young in nature or appearance')\n",
      "('allegiance', 'duty support loyalty')\n",
      "('vigorous', 'strong energetic')\n",
      "('dullard', 'a stupid, insensitive person\"')\n",
      "('dwarf', 'person much smaller the usual size')\n",
      "('fragrant', 'sweet-smelling')\n",
      "('judicious', 'sound in judgment; wise')\n",
      "('nihilism', 'total rejection of all religious and moral beliefs')\n",
      "('odor', 'smell')\n",
      "('scribble', 'write hastily')\n",
      "('hospitable', 'liking to give hospitality')\n",
      "('narcissism', 'Self-love')\n",
      "('sawdust', 'tiny bits of wood')\n",
      "('ameliorate', 'improve; make better')\n",
      "('ingest', 'take in by swallowing')\n",
      "('gait', 'a manner of walking, stepping, or running\"')\n",
      "('sluggard', 'lazy slow-moving person')\n",
      "('succumb', 'yield, die\"')\n",
      "('reiterate', 'say or do again several times')\n",
      "('flop', 'fail/move/fall clumsily')\n",
      "('defer', 'postpone')\n",
      "('ossified', 'turned to bone; hardened like bone; Inflexible')\n",
      "('eloquence', 'fluent speaking skillful use of language')\n",
      "('derivative', 'unoriginal; obtained from another source')\n",
      "('commuter', 'person who travels regularly')\n",
      "('clot', 'half-solid lump formed from liquid')\n",
      "('weigh', 'measure how heavy something is')\n",
      "('steeply', 'rising or falling sharply')\n",
      "('torque', 'twisting force causing rotation')\n",
      "('benefactor', 'person who has given help')\n",
      "('complaisant', 'trying to please; obliging')\n",
      "('plea', 'request')\n",
      "('moderation', 'quality of being limited; not extreme')\n",
      "('enduring', 'lasting')\n",
      "('invincible', 'too strong to be defeated')\n",
      "('sanity', 'health of mind soundness of judgment')\n",
      "('turmoil', 'trouble disturbance')\n",
      "('flimsy', 'lacking solidarity, strength\"')\n",
      "('tadpole', 'form of a frog when it leaves the egg')\n",
      "('reconcile', 'settle a quarrel restore peace')\n",
      "('cryptic', 'secret with a hidden meaning')\n",
      "('sponge', 'porous rubber for washing live at once expense')\n",
      "('commemorate', 'keep the memory of')\n",
      "('sadistic', 'Cruel')\n",
      "('dote', \"show much fondness center one's attention\")\n",
      "('encapsulate', 'enclose in capsule')\n",
      "('fission', 'splitting or division (esp. of cells)')\n",
      "('volatile', 'changeable inconstant fickle unstable explosive')\n",
      "('alloy', 'to debase by mixing with something inferior')\n",
      "('dormant', 'in a state of inactivity but awaiting development')\n",
      "('gallant', 'brave,behaves well with women\"')\n",
      "('grievous', 'causing grief or pain; serious dire grave')\n",
      "('enzyme', 'catalyst')\n",
      "('shard', 'A piece of broken pottery')\n",
      "('hypocrisy', 'falsely making oneself appear to be good')\n",
      "('eradicate', 'get rid of pull up by the roots')\n",
      "('chisel', 'steel tool for shaping materials')\n",
      "('infuriate', 'fill with fury or rage')\n",
      "('engulf', 'swallow up')\n",
      "('euphoria', 'elation state of pleasant excitement')\n",
      "('sanction', 'approval (by authority) penalty')\n",
      "('renowned', 'celebrated; famous')\n",
      "('riddle', 'puzzling person or thing')\n",
      "('evoke', 'call up bring out')\n",
      "('mischievous', 'harmful; causing mischief')\n",
      "('implicit', 'implied though; not plainly expressed')\n",
      "('disproof', 'proof to the contrary')\n",
      "('misogynist', 'one who hates women/females')\n",
      "('abysmal', 'extreme bad')\n",
      "('writ', 'written order')\n",
      "('pertain', 'belong as a part have reference')\n",
      "('erratic', 'irregular in behaviour or opinion')\n",
      "('meticulous', 'giving great attention to details')\n",
      "('impromptu', 'without preparation')\n",
      "('inclined', 'directing the mind in a certain direction')\n",
      "('constrict', 'make tight or smaller')\n",
      "('perish', 'be destroyed decay')\n",
      "('Lambaste', 'attack verbally')\n",
      "('luminary', 'star; light-giving body')\n",
      "('dupe', 'cheat make a fool of')\n",
      "('auxiliary', 'helping; supporting')\n",
      "('extralegal', 'outside the law')\n",
      "('ambivalent', 'having both of two contrary meanings')\n",
      "('tonic', 'something giving strength or energy')\n",
      "('endorse', \"write one's name on the back of\")\n",
      "('turbulence', 'being uncontrollably violent')\n",
      "('connoisseur', 'a person with good judgement (e.g.. in art)')\n",
      "('indistinct', 'not easily heard; seen clearly marked')\n",
      "('abstruse', 'difficult to comprehend; obscure')\n",
      "('limp', 'lacking strength; walking unevenly')\n",
      "('parenthesis', 'sentence within another one something separated')\n",
      "('sophisticated', 'complex; subtle; refined')\n",
      "('aberration', 'straying away from what is normal')\n",
      "('recuperate', 'become strong after illness loss exhaustion')\n",
      "('perjury', 'willful FALSE statement unlawful act')\n",
      "('mite', 'A very small amount, portion, or particle\"')\n",
      "('pest', 'destructive thing or a person who is nuisance')\n",
      "('pluck', 'pull the feathers off pick (e.g.. flowers)')\n",
      "('satiate', 'satisfy fully')\n",
      "('colloquial', 'involving or using conversation.')\n",
      "('yeoman', 'man owning small estate; middle-class farmer')\n",
      "('ail', 'to cause pain, uneasiness, or trouble to.\"')\n",
      "('fidelity', 'loyalty accuracy')\n",
      "('mesmerize', 'hypnotize')\n",
      "('paradigm', 'a model example or pattern')\n",
      "('gullible', 'easily gulled')\n",
      "('sobriety', 'quality or condition of being sober')\n",
      "('dislodge', 'move force from the place occupied')\n",
      "('fleet', 'number of ships; quick-moving')\n",
      "('articulate', 'speak distinctly; connect by joints')\n",
      "('tractable', 'easily controlled or guided')\n",
      "('partisan', 'one-sided committed to a party biased or prejudiced')\n",
      "('predominate', 'have more power than others')\n",
      "('foolproof', 'incapable of failure or error')\n",
      "('suffice', 'be enough')\n",
      "('permeate', 'spread into every part of')\n",
      "('spear', 'weapon with a metal point on a long shaft')\n",
      "('solvent', 'of the power of forming a solution')\n",
      "('presentiment', 'anticipatory fear; premonition')\n",
      "('vivacious', 'lively high-spirited')\n",
      "('coagulation', 'change to a thick and solid state')\n",
      "('liberality', 'free giving; generosity')\n",
      "('elaborate', 'worked out with much care in great detail')\n",
      "('brass', 'yellow metal (mixing copper and zinc)')\n",
      "('malleable', 'yielding easily shaped; moldable; adapting')\n",
      "('patron', 'regular customer person who gives support')\n",
      "('immutable', 'that cannot be changed')\n",
      "('forgery', 'counterfeit')\n",
      "('woo', 'try to win')\n",
      "('cordial', 'warm and sincere')\n",
      "('cumbersome', 'burdensome; heavy and awkward to carry')\n",
      "('beguile', 'mislead or delude; cheat; pass time')\n",
      "('retrograde', 'receding')\n",
      "('sheath', 'cover for the blade of a weapon or a tool')\n",
      "('bewilder', 'puzzle; confuse')\n",
      "('knit', 'draw together; unite firmly')\n",
      "('unscathed', 'unharmed unhurt')\n",
      "('chortle', 'loud chuckle of pleasure or amusement')\n",
      "('jabber', 'talk excitedly; utter rapidly')\n",
      "('pivotal', 'of great importance (others depend on it)')\n",
      "('implosion', 'collapse; bursting inward')\n",
      "('repel', 'refuse to accept/cause dislike')\n",
      "('superimpose', 'put something on the top')\n",
      "('centurion', 'leader of a unit of 100 soldiers')\n",
      "('enigma', 'something that is puzzling')\n",
      "('calipers', 'metal supports attached to the legs measuring instrument')\n",
      "('redeem', 'get back by payment compensate')\n",
      "('buoyant', 'able to float; light-hearted')\n",
      "('impede', 'hinder; get in the way of')\n",
      "('stride', 'walk with long steps')\n",
      "('boisterous', 'noisy; restraint')\n",
      "('resuscitation', 'coming back to consciousness')\n",
      "('concur', 'agree in opinion happen together')\n",
      "('recitals', 'a number of performance of music')\n",
      "('treacherous', 'not to be trusted, perfidious\"')\n",
      "('indulgent', 'inclined to indulge')\n",
      "('pilferer', 'to steal, especially in small quantities\"')\n",
      "('foster', 'nurture; care for')\n",
      "('apartheid', 'brutal racial discrimination')\n",
      "('garrulous', 'too talkative')\n",
      "('edify', 'instruct; correct morally')\n",
      "('evasive', 'tending to evade')\n",
      "('misanthrope', 'person who hates mankind')\n",
      "('eulogy', 'formal praise panegyric')\n",
      "('arcane', 'known or understood by very few')\n",
      "('bogus', 'sham; counterfeit; not genuine')\n",
      "('dexterity', 'skill (esp. in handling)')\n",
      "('lampoon', 'publicly mock or ridicule')\n",
      "('skit', 'short piece of humorous writing')\n",
      "('incongruous', 'out of place; not in harmony or agreement')\n",
      "('repulsive', 'causing a feeling of disgust')\n",
      "('refine', 'make or become pure cultural')\n"
     ]
    }
   ],
   "source": [
    "# Select all columns\n",
    "sql = \"SELECT * FROM vocab_table\"\n",
    "cursor.execute(sql)\n",
    "\n",
    "# Fetch all the rows\n",
    "result = cursor.fetchall()\n",
    "\n",
    "# print the table retrieve\n",
    "for row in result:\n",
    "    print(row)"
   ]
  },
  {
   "cell_type": "code",
   "execution_count": 38,
   "metadata": {},
   "outputs": [
    {
     "name": "stdout",
     "output_type": "stream",
     "text": [
      "('boisterous', 'noisy; restraint')\n"
     ]
    }
   ],
   "source": [
    "# Example with WHERE clause\n",
    "\n",
    "sql = \"SELECT * FROM vocab_table WHERE word = %s\"\n",
    "\n",
    "value = (\"boisterous\",)\n",
    "cursor.execute(sql , value)\n",
    "\n",
    "result = cursor.fetchall()\n",
    "\n",
    "for row in result:\n",
    "    print(row)"
   ]
  },
  {
   "cell_type": "markdown",
   "metadata": {},
   "source": [
    "## Task 5: Update a Table Entry to Modify it"
   ]
  },
  {
   "cell_type": "code",
   "execution_count": 48,
   "metadata": {},
   "outputs": [],
   "source": [
    "# Creating the sentence and value to update\n",
    "sql = \"UPDATE vocab_table SET definition = %s WHERE word = %s\"\n",
    "value = (\"spirited; lively\" , 'boisterous')\n",
    "cursor.execute(sql , value)"
   ]
  },
  {
   "cell_type": "code",
   "execution_count": 49,
   "metadata": {},
   "outputs": [],
   "source": [
    "conn.commit()"
   ]
  },
  {
   "cell_type": "code",
   "execution_count": 50,
   "metadata": {},
   "outputs": [
    {
     "name": "stdout",
     "output_type": "stream",
     "text": [
      "Modified row count:  1\n"
     ]
    }
   ],
   "source": [
    "# Verifying the update\n",
    "print(\"Modified row count: \" , cursor.rowcount)"
   ]
  },
  {
   "cell_type": "code",
   "execution_count": 51,
   "metadata": {},
   "outputs": [
    {
     "name": "stdout",
     "output_type": "stream",
     "text": [
      "('boisterous', 'spirited; lively')\n"
     ]
    }
   ],
   "source": [
    "# Printing the updated value\n",
    "sql = \"SELECT * FROM vocab_table WHERE word = %s\"\n",
    "value = (\"boisterous\",)\n",
    "cursor.execute(sql , value)\n",
    "result = cursor.fetchall()\n",
    "for row in result:\n",
    "    print(row)"
   ]
  }
 ],
 "metadata": {
  "kernelspec": {
   "display_name": "Python 3",
   "language": "python",
   "name": "python3"
  },
  "language_info": {
   "codemirror_mode": {
    "name": "ipython",
    "version": 3
   },
   "file_extension": ".py",
   "mimetype": "text/x-python",
   "name": "python",
   "nbconvert_exporter": "python",
   "pygments_lexer": "ipython3",
   "version": "3.8.3"
  }
 },
 "nbformat": 4,
 "nbformat_minor": 4
}
